{
 "cells": [
  {
   "cell_type": "code",
   "execution_count": 4,
   "metadata": {},
   "outputs": [
    {
     "data": {
      "text/plain": [
       "(2.5071667153732728e-05, 376.99111843077515)"
      ]
     },
     "execution_count": 4,
     "metadata": {},
     "output_type": "execute_result"
    }
   ],
   "source": [
    "import numpy as np\n",
    "\n",
    "# Given data\n",
    "S_total = 45e6  # 45 MVA, total apparent power\n",
    "V_line = 69e3  # 69 kV, line-to-line voltage\n",
    "L_phase = 60e-6  # 60 μH, inductance per phase\n",
    "initial_voltage_phase = 40e3  # 40 kV, initial per-phase voltage\n",
    "frequency = 60  # Assuming standard frequency in Hz\n",
    "\n",
    "# Calculations\n",
    "# Convert line-to-line voltage to phase-to-neutral voltage\n",
    "V_phase = V_line / np.sqrt(3)\n",
    "\n",
    "# Calculate per-phase apparent power\n",
    "S_phase = S_total / 3\n",
    "\n",
    "# Operating angular frequency\n",
    "omega = 2 * np.pi * frequency\n",
    "\n",
    "# Calculate per-phase capacitance C (Farads)\n",
    "C_phase = S_phase / (V_phase**2 * omega)\n",
    "\n",
    "C_phase, omega\n"
   ]
  }
 ],
 "metadata": {
  "kernelspec": {
   "display_name": "Python 3",
   "language": "python",
   "name": "python3"
  },
  "language_info": {
   "codemirror_mode": {
    "name": "ipython",
    "version": 3
   },
   "file_extension": ".py",
   "mimetype": "text/x-python",
   "name": "python",
   "nbconvert_exporter": "python",
   "pygments_lexer": "ipython3",
   "version": "3.11.6"
  }
 },
 "nbformat": 4,
 "nbformat_minor": 2
}
